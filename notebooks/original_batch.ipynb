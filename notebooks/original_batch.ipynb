{
 "cells": [
  {
   "cell_type": "code",
   "execution_count": null,
   "metadata": {},
   "outputs": [],
   "source": [
    "!pip3 install fastapi pandas torch transformers uvicorn google-cloud-storage scikit-learn\n"
   ]
  },
  {
   "cell_type": "code",
   "execution_count": null,
   "metadata": {},
   "outputs": [],
   "source": [
    "from fastapi import FastAPI, UploadFile, HTTPException\n",
    "import pandas as pd\n",
    "import torch\n",
    "import json\n",
    "import io\n",
    "from transformers import BartTokenizer\n",
    "\n",
    "\n",
    "\n",
    "import logging\n"
   ]
  },
  {
   "cell_type": "code",
   "execution_count": null,
   "metadata": {},
   "outputs": [],
   "source": [
    "# Load the new JSON files and inspect their structure\n",
    "\n",
    "with open(\"../datasets/saved_data/input_embeddings_12.json\", 'r') as file:\n",
    "    input_embeddings_data = json.load(file)\n",
    "\n",
    "with open(\"../datasets/input_old_model/input_mask_invert_12.json\", 'r') as file:\n",
    "    input_mask_invert_data = json.load(file)\n",
    "\n",
    "with open(\"../datasets/input_old_model/input_masks_12.json\", 'r') as file:\n",
    "    input_masks_data = json.load(file)\n",
    "\n",
    "input_embeddings_data, input_mask_invert_data, input_masks_data"
   ]
  },
  {
   "cell_type": "code",
   "execution_count": null,
   "metadata": {},
   "outputs": [],
   "source": [
    "import json\n",
    "\n",
    "with open('path_to_your_embedding_file.json', 'r') as file:\n",
    "    embeddings = json.load(file)\n",
    "\n",
    "import numpy as np\n",
    "\n",
    "embedding_matrix = np.array(embeddings)\n",
    "\n",
    "import torch\n",
    "\n",
    "embedding_tensor = torch.from_numpy(embedding_matrix)"
   ]
  },
  {
   "cell_type": "code",
   "execution_count": null,
   "metadata": {},
   "outputs": [],
   "source": [
    "import torch.nn as nn\n",
    "import torch.nn.functional as F\n",
    "import torch.utils.data\n",
    "from transformers import BartTokenizer, BartForConditionalGeneration, BartConfig\n",
    "import math\n",
    "import numpy as np\n",
    "\n",
    "\"\"\" main architecture for open vocabulary EEG-To-Text decoding\"\"\"\n",
    "class BrainTranslator(nn.Module):\n",
    "    def __init__(self, pretrained_layers, in_feature = 840, decoder_embedding_size = 1024, additional_encoder_nhead=8, additional_encoder_dim_feedforward = 2048):\n",
    "        super(BrainTranslator, self).__init__()\n",
    "        \n",
    "        self.pretrained = pretrained_layers\n",
    "        # additional transformer encoder, following BART paper about \n",
    "        self.additional_encoder_layer = nn.TransformerEncoderLayer(d_model=in_feature, nhead=additional_encoder_nhead,  dim_feedforward = additional_encoder_dim_feedforward, batch_first=True)\n",
    "        self.additional_encoder = nn.TransformerEncoder(self.additional_encoder_layer, num_layers=6)\n",
    "        \n",
    "        # print('[INFO]adding positional embedding')\n",
    "        # self.positional_embedding = PositionalEncoding(in_feature)\n",
    "\n",
    "        self.fc1 = nn.Linear(in_feature, decoder_embedding_size)\n",
    "\n",
    "    def forward(self, input_embeddings_batch, input_masks_batch, input_masks_invert, target_ids_batch_converted):\n",
    "        \"\"\"input_embeddings_batch: batch_size*Seq_len*840\"\"\"\n",
    "        \"\"\"input_mask: 1 is not masked, 0 is masked\"\"\"\n",
    "        \"\"\"input_masks_invert: 1 is masked, 0 is not masked\"\"\"\n",
    "        \n",
    "        # input_embeddings_batch = self.positional_embedding(input_embeddings_batch) \n",
    "\n",
    "        # use src_key_padding_masks\n",
    "        encoded_embedding = self.additional_encoder(input_embeddings_batch, src_key_padding_mask = input_masks_invert) \n",
    "        \n",
    "        # encoded_embedding = self.additional_encoder(input_embeddings_batch) \n",
    "        encoded_embedding = F.relu(self.fc1(encoded_embedding))\n",
    "        out = self.pretrained(inputs_embeds = encoded_embedding, attention_mask = input_masks_batch, return_dict = True, labels = target_ids_batch_converted)                    \n",
    "        \n",
    "        return out\n"
   ]
  },
  {
   "cell_type": "code",
   "execution_count": null,
   "metadata": {},
   "outputs": [],
   "source": [
    "from transformers import BartForConditionalGeneration\n",
    "\n",
    "_MODEL = None\n",
    "\n",
    "def get_model():\n",
    "    global _MODEL\n",
    "\n",
    "    if _MODEL is None:\n",
    "        pretrained_bart = BartForConditionalGeneration.from_pretrained('facebook/bart-large')\n",
    "        checkpoint_path = '/Users/michaelholborn/Documents/SoftwareLocal/monotropism/thoughtx/local_checkpoint/us-central1_eeg-test_dodadqada_eeg-text_eeg-text_checkpoints_decoding_best_task1_task2_taskNRv2_finetune_BrainTranslator_skipstep1_b32_20_30_5e-05_5e-07_unique_sent.pt'  # Change to the path of your model\n",
    "        _MODEL = BrainTranslator(pretrained_bart)\n",
    "        model_weights = torch.load(checkpoint_path, map_location=torch.device('cpu'))\n",
    "        _MODEL.load_state_dict(model_weights)\n",
    "        _MODEL.eval()\n",
    "\n",
    "    return _MODEL\n"
   ]
  },
  {
   "cell_type": "code",
   "execution_count": null,
   "metadata": {},
   "outputs": [],
   "source": [
    "import torch\n",
    "\n",
    "# Convert loaded data to PyTorch tensors and add batch dimension\n",
    "input_embeddings_tensor = torch.tensor(input_embeddings_data).unsqueeze(0)\n",
    "input_masks_tensor = torch.tensor(input_masks_data).unsqueeze(0).squeeze(-1)\n",
    "input_mask_invert_tensor = torch.tensor(input_mask_invert_data).unsqueeze(0).squeeze(-1)\n",
    "\n",
    "\n",
    "\n",
    "# # Convert loaded data to PyTorch tensors\n",
    "# input_embeddings_tensor = torch.tensor(input_embeddings_data)\n",
    "# input_masks_tensor = torch.tensor(input_masks_data)\n",
    "# input_mask_invert_tensor = torch.tensor(input_mask_invert_data)\n",
    "\n",
    "input_embeddings_tensor.shape, input_masks_tensor.shape, input_mask_invert_tensor.shape"
   ]
  },
  {
   "cell_type": "code",
   "execution_count": null,
   "metadata": {},
   "outputs": [],
   "source": [
    "model=get_model()\n",
    "\n",
    "results = []\n",
    "\n",
    "pred_tokens_list = []\n",
    "pred_string_list = []\n",
    "\n",
    "tokenizer = BartTokenizer.from_pretrained('facebook/bart-large')\n",
    "placeholder_token = tokenizer(\"<s>\", return_tensors=\"pt\")"
   ]
  },
  {
   "cell_type": "code",
   "execution_count": null,
   "metadata": {},
   "outputs": [],
   "source": [
    "with torch.no_grad():\n",
    "        try:\n",
    "            outputs = model(input_embeddings_tensor, input_masks_tensor, input_mask_invert_tensor, placeholder_token[\"input_ids\"])\n",
    "            # Extract the generated token IDs from the model's outputs\n",
    "            logits=outputs.logits\n",
    "            probs = logits[0].softmax(dim = 1)\n",
    "            values, predictions = probs.topk(1)\n",
    "            predictions = torch.squeeze(predictions)\n",
    "            predicted_string = tokenizer.decode(predictions).split('</s></s>')[0].replace('<s>','')\n",
    "            predictions = predictions.tolist()\n",
    "            truncated_prediction = []\n",
    "            for t in predictions:\n",
    "                if t != tokenizer.eos_token_id:\n",
    "                    truncated_prediction.append(t)\n",
    "                else:\n",
    "                    break\n",
    "            pred_tokens = tokenizer.convert_ids_to_tokens(truncated_prediction, skip_special_tokens = True)\n",
    "            # print('predicted tokens:',pred_tokens)\n",
    "            pred_tokens_list.append(pred_tokens)\n",
    "            pred_string_list.append(predicted_string)\n",
    "            print('predicted string:',predicted_string)\n",
    "            # results.append(generated_text)\n",
    "        except Exception as e:\n",
    "            logging.error(f\"Error during inference: {str(e)}\")\n",
    "            results.append(str(e))"
   ]
  },
  {
   "cell_type": "code",
   "execution_count": null,
   "metadata": {},
   "outputs": [],
   "source": [
    "pred_string_list\n"
   ]
  },
  {
   "cell_type": "code",
   "execution_count": null,
   "metadata": {},
   "outputs": [],
   "source": [
    "from fastapi import FastAPI, UploadFile, HTTPException\n",
    "import pandas as pd\n",
    "import torch\n",
    "import json\n",
    "import io\n",
    "from transformers import BartTokenizer\n",
    "\n",
    "\n",
    "\n",
    "import logging\n"
   ]
  },
  {
   "cell_type": "code",
   "execution_count": null,
   "metadata": {},
   "outputs": [],
   "source": [
    "import json\n",
    "\n",
    "with open('path_to_your_embedding_file.json', 'r') as file:\n",
    "    embeddings = json.load(file)\n",
    "\n",
    "import numpy as np\n",
    "\n",
    "embedding_matrix = np.array(embeddings)\n",
    "\n",
    "import torch\n",
    "\n",
    "embedding_tensor = torch.from_numpy(embedding_matrix)"
   ]
  },
  {
   "cell_type": "code",
   "execution_count": null,
   "metadata": {},
   "outputs": [],
   "source": [
    "from transformers import BartForConditionalGeneration\n",
    "\n",
    "_MODEL = None\n",
    "\n",
    "def get_model():\n",
    "    global _MODEL\n",
    "\n",
    "    if _MODEL is None:\n",
    "        pretrained_bart = BartForConditionalGeneration.from_pretrained('facebook/bart-large')\n",
    "        checkpoint_path = '/Users/michaelholborn/Documents/SoftwareLocal/monotropism/thoughtx/local_checkpoint/us-central1_eeg-test_dodadqada_eeg-text_eeg-text_checkpoints_decoding_best_task1_task2_taskNRv2_finetune_BrainTranslator_skipstep1_b32_20_30_5e-05_5e-07_unique_sent.pt'  # Change to the path of your model\n",
    "        _MODEL = BrainTranslator(pretrained_bart)\n",
    "        model_weights = torch.load(checkpoint_path, map_location=torch.device('cpu'))\n",
    "        _MODEL.load_state_dict(model_weights)\n",
    "        _MODEL.eval()\n",
    "\n",
    "    return _MODEL\n"
   ]
  },
  {
   "cell_type": "code",
   "execution_count": null,
   "metadata": {},
   "outputs": [],
   "source": [
    "model=get_model()\n",
    "\n",
    "results = []\n",
    "\n",
    "pred_tokens_list = []\n",
    "pred_string_list = []\n",
    "\n",
    "tokenizer = BartTokenizer.from_pretrained('facebook/bart-large')\n",
    "placeholder_token = tokenizer(\"<s>\", return_tensors=\"pt\")"
   ]
  },
  {
   "cell_type": "code",
   "execution_count": null,
   "metadata": {},
   "outputs": [],
   "source": [
    "pred_string_list\n"
   ]
  }
 ],
 "metadata": {
  "kernelspec": {
   "display_name": "Python 3",
   "language": "python",
   "name": "python3"
  },
  "language_info": {
   "codemirror_mode": {
    "name": "ipython",
    "version": 3
   },
   "file_extension": ".py",
   "mimetype": "text/x-python",
   "name": "python",
   "nbconvert_exporter": "python",
   "pygments_lexer": "ipython3",
   "version": "3.11.5"
  },
  "orig_nbformat": 4
 },
 "nbformat": 4,
 "nbformat_minor": 2
}
